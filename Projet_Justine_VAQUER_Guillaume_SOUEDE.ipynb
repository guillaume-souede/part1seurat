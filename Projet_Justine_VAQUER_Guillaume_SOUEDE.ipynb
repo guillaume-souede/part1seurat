{
  "cells": [
    {
      "cell_type": "markdown",
      "metadata": {
        "id": "view-in-github",
        "colab_type": "text"
      },
      "source": [
        "<a href=\"https://colab.research.google.com/github/guillaume-souede/part1seurat/blob/main/Projet_Justine_VAQUER_Guillaume_SOUEDE.ipynb\" target=\"_parent\"><img src=\"https://colab.research.google.com/assets/colab-badge.svg\" alt=\"Open In Colab\"/></a>"
      ]
    },
    {
      "cell_type": "markdown",
      "metadata": {
        "id": "UsZtP50BJNom"
      },
      "source": [
        "***Projet L3 BIOMIP9 2023-2024***"
      ]
    },
    {
      "cell_type": "markdown",
      "source": [
        "# Introduction"
      ],
      "metadata": {
        "id": "eN9_f6GZ5DSl"
      }
    },
    {
      "cell_type": "markdown",
      "metadata": {
        "id": "3AZrCza4LR7O"
      },
      "source": [
        "---\n",
        "*Étudiants* : VAQUER Justine, SOUEDE Guillaume \\\\\n",
        "*Heures cumulées* : 30\n",
        "\n"
      ]
    },
    {
      "cell_type": "markdown",
      "source": [
        "---\n",
        "\n",
        "\n",
        "**Importer les fichiers et éventuellement modifier les chemins d'accès ci-dessous :**"
      ],
      "metadata": {
        "id": "9BkobxfJhtK-"
      }
    },
    {
      "cell_type": "code",
      "source": [
        "# Entrees\n",
        "repertoire_pickle = '/content/champignons.pickle'\n",
        "repertoire_python = '/content/charger_donnees.py'\n",
        "# Sorties\n",
        "repertoire_db = '/content/database.db'\n",
        "nom_db = 'database.db'"
      ],
      "metadata": {
        "id": "wCwTUN-igCOM"
      },
      "execution_count": null,
      "outputs": []
    },
    {
      "cell_type": "markdown",
      "source": [
        "\n",
        "\n",
        "---\n",
        "\n"
      ],
      "metadata": {
        "id": "C0a9uxl556EP"
      }
    },
    {
      "cell_type": "code",
      "source": [
        "exec(open(repertoire_python).read())\n",
        "print(\"charger_donnees.py : OK\")\n",
        "\n",
        "# Charger les données à partir du fichier champignons.pickle\n",
        "import pickle\n",
        "with open(repertoire_pickle, 'rb') as f:\n",
        "    champignons = pickle.load(f)\n",
        "    print(\"champignons.pickle : OK\")"
      ],
      "metadata": {
        "colab": {
          "base_uri": "https://localhost:8080/"
        },
        "id": "LTAQ8tFAhpkL",
        "outputId": "657c3528-d601-46b8-8bc0-7b6b906f6f97"
      },
      "execution_count": null,
      "outputs": [
        {
          "output_type": "stream",
          "name": "stdout",
          "text": [
            "chemin_champignons   :    type: <class 'str'>\n",
            "chemin_charger_donnees   :    type: <class 'str'>\n",
            "pickle   :    type: <class 'module'>\n",
            "fichier   :    type: <class '_io.BufferedReader'>\n",
            "table_ordre_intitules   :    type: <class 'tuple'>\n",
            "table_ordre   :    type: <class 'list'>\n",
            "table_champignon_intitules   :    type: <class 'tuple'>\n",
            "table_champignon   :    type: <class 'list'>\n",
            "table_ingredient_intitules   :    type: <class 'tuple'>\n",
            "table_ingredient   :    type: <class 'list'>\n",
            "table_recette_intitules   :    type: <class 'tuple'>\n",
            "table_recette   :    type: <class 'list'>\n",
            "charger_donnees.py : OK\n",
            "champignons.pickle : OK\n"
          ]
        }
      ]
    },
    {
      "cell_type": "markdown",
      "metadata": {
        "id": "Rkox8woYJwCs"
      },
      "source": [
        "# Partie I – Création d’une base de données relationnelle"
      ]
    },
    {
      "cell_type": "markdown",
      "source": [
        "## 1. Récupérez le programme python charger_donnees.py et champignons.pickle. Ce programme permet de charger la base de données sur les champignons (issue de données de l’Office National des Forets). Les données sont constituées de plusieurs tables : ordre, champignon, recette, ingrédient."
      ],
      "metadata": {
        "id": "rosXrNZD6w5J"
      }
    },
    {
      "cell_type": "markdown",
      "metadata": {
        "id": "w1ANp7htyABq"
      },
      "source": [
        "### a. Utilisez ce programme pour comprendre les informations disponibles :"
      ]
    },
    {
      "cell_type": "markdown",
      "metadata": {
        "id": "fW2sXCS9c6lZ"
      },
      "source": [
        "\n",
        "\n",
        "---\n",
        "\n",
        "\n",
        "i. Quel est le type de chaque enregistrement ? \\\\\n",
        "\n",
        "\n",
        "---\n",
        "\n"
      ]
    },
    {
      "cell_type": "code",
      "execution_count": null,
      "metadata": {
        "colab": {
          "base_uri": "https://localhost:8080/",
          "height": 211
        },
        "id": "jpQa1YnLvMu3",
        "outputId": "cb4573be-5a51-4fa0-9a34-60824e281c74"
      },
      "outputs": [
        {
          "output_type": "error",
          "ename": "FileNotFoundError",
          "evalue": "[Errno 2] No such file or directory: 'champignons.pickle'",
          "traceback": [
            "\u001b[0;31m---------------------------------------------------------------------------\u001b[0m",
            "\u001b[0;31mFileNotFoundError\u001b[0m                         Traceback (most recent call last)",
            "\u001b[0;32m<ipython-input-3-a79ebe1daab5>\u001b[0m in \u001b[0;36m<cell line: 3>\u001b[0;34m()\u001b[0m\n\u001b[1;32m      1\u001b[0m \u001b[0;31m# CHARGEMENT DES DONNEES DU PROJET\u001b[0m\u001b[0;34m\u001b[0m\u001b[0;34m\u001b[0m\u001b[0m\n\u001b[1;32m      2\u001b[0m \u001b[0;34m\u001b[0m\u001b[0m\n\u001b[0;32m----> 3\u001b[0;31m \u001b[0mfichier\u001b[0m \u001b[0;34m=\u001b[0m \u001b[0mopen\u001b[0m\u001b[0;34m(\u001b[0m\u001b[0;34m'champignons.pickle'\u001b[0m\u001b[0;34m,\u001b[0m\u001b[0;34m'rb'\u001b[0m\u001b[0;34m)\u001b[0m\u001b[0;34m\u001b[0m\u001b[0;34m\u001b[0m\u001b[0m\n\u001b[0m\u001b[1;32m      4\u001b[0m \u001b[0mtable_ordre_intitules\u001b[0m \u001b[0;34m=\u001b[0m \u001b[0mpickle\u001b[0m\u001b[0;34m.\u001b[0m\u001b[0mload\u001b[0m\u001b[0;34m(\u001b[0m\u001b[0mfichier\u001b[0m\u001b[0;34m)\u001b[0m\u001b[0;34m\u001b[0m\u001b[0;34m\u001b[0m\u001b[0m\n\u001b[1;32m      5\u001b[0m \u001b[0mtable_ordre\u001b[0m \u001b[0;34m=\u001b[0m \u001b[0mpickle\u001b[0m\u001b[0;34m.\u001b[0m\u001b[0mload\u001b[0m\u001b[0;34m(\u001b[0m\u001b[0mfichier\u001b[0m\u001b[0;34m)\u001b[0m\u001b[0;34m\u001b[0m\u001b[0;34m\u001b[0m\u001b[0m\n",
            "\u001b[0;31mFileNotFoundError\u001b[0m: [Errno 2] No such file or directory: 'champignons.pickle'"
          ]
        }
      ],
      "source": [
        "# CHARGEMENT DES DONNEES DU PROJET\n",
        "\n",
        "fichier = open('champignons.pickle','rb')\n",
        "table_ordre_intitules = pickle.load(fichier)\n",
        "table_ordre = pickle.load(fichier)\n",
        "table_champignon_intitules = pickle.load(fichier)\n",
        "table_champignon = pickle.load(fichier)\n",
        "table_ingredient_intitules = pickle.load(fichier)\n",
        "table_ingredient = pickle.load(fichier)\n",
        "table_recette_intitules = pickle.load(fichier)\n",
        "table_recette = pickle.load(fichier)\n",
        "fichier.close()\n",
        "\n",
        "# affichage des variables chargées\n",
        "def printvars():\n",
        "   tmp = globals().copy()\n",
        "   exclure = ['tmp', 'In', 'Out', 'drive', 'pickle', 'os', 'f', 'fichier'] # exclure ce qui ne correspond pas aux enregistrements\n",
        "   [print(k,'  :  ',' type:' , type(v)) for k,v in tmp.items() if not k.startswith('_') and k not in exclure and not hasattr(v, '__call__') ]\n",
        "\n",
        "printvars()\n",
        "\n",
        "\n",
        "# Code \"modifié\" pour exclure d'autres éléments peu pertinents..."
      ]
    },
    {
      "cell_type": "markdown",
      "metadata": {
        "id": "eIDRocVPc8Kb"
      },
      "source": [
        "---\n",
        "\n",
        "\n",
        "ii. Combien y a-t-il d’éléments par table ?\n",
        "\n",
        "\n",
        "---"
      ]
    },
    {
      "cell_type": "code",
      "execution_count": null,
      "metadata": {
        "colab": {
          "base_uri": "https://localhost:8080/"
        },
        "id": "Azk1C881c9gY",
        "outputId": "c42cda85-2e4d-44d4-b7ed-e31489fc3062"
      },
      "outputs": [
        {
          "output_type": "stream",
          "name": "stdout",
          "text": [
            "Nombre d'éléments par table:\n",
            "Ordre: 12\n",
            "Champignon: 40\n",
            "Ingredient: 7\n",
            "Recette: 6\n",
            "Ordre_intitules: 2\n",
            "Champignon_intitules: 11\n",
            "Ingredient_intitules: 2\n",
            "Recette_intitules: 5\n"
          ]
        }
      ],
      "source": [
        "print(\"Nombre d'éléments par table:\")\n",
        "tables = {                              #tables est un dictionnaire\n",
        "    'ordre': table_ordre,\n",
        "    'champignon': table_champignon,\n",
        "    'ingredient': table_ingredient,\n",
        "    'recette': table_recette,\n",
        "    'ordre_intitules': table_ordre_intitules,\n",
        "    'champignon_intitules': table_champignon_intitules,\n",
        "    'ingredient_intitules': table_ingredient_intitules,\n",
        "    'recette_intitules': table_recette_intitules,\n",
        "}\n",
        "\n",
        "for table, elements in tables.items():\n",
        "    print(f\"{table.capitalize()}: {len(elements)}\")\n",
        "\n",
        "# Les intitulés sont aussi des tables..."
      ]
    },
    {
      "cell_type": "markdown",
      "metadata": {
        "id": "SbwA7S92c9yu"
      },
      "source": [
        "---\n",
        "\n",
        "\n",
        "iii. Affichez les tables.\n",
        "\n",
        "\n",
        "---"
      ]
    },
    {
      "cell_type": "code",
      "execution_count": null,
      "metadata": {
        "colab": {
          "base_uri": "https://localhost:8080/"
        },
        "id": "KyMRluHPdAPv",
        "outputId": "7ff2a2e6-5d0d-4af5-81f5-24f0105563c4"
      },
      "outputs": [
        {
          "output_type": "stream",
          "name": "stdout",
          "text": [
            "Affichage des tables:\n",
            "\n",
            "Table Ordre :\n",
            "(1, 'Agaricales')\n",
            "(2, 'Trémellales')\n",
            "(3, 'Bolétales')\n",
            "(4, 'Amanitales')\n",
            "(5, 'Cantharellales')\n",
            "(6, 'Ganodermatales')\n",
            "(7, 'Clavariales')\n",
            "(8, 'Tricholomatales')\n",
            "(9, 'Pezizales')\n",
            "(10, 'Polyporales')\n",
            "(11, 'Russulales')\n",
            "(12, 'Phallales')\n",
            "\n",
            "Table Champignon :\n",
            "(1, 'Champignon de Paris', 'Agaricus bisporus', 1, 1, 1, 'blanc', 4, 10, 2, 5)\n",
            "(2, 'Champignon noir', 'Auricularia auricula-judae', 2, 1, 0, 'noir', 2, 10, 0, 0)\n",
            "(3, 'Coprin chevelu', 'Coprinus comatus', 1, 1, 1, 'blanc', 5, 20, 10, 40)\n",
            "(4, 'Bolet à pied rouge', 'Boletus erythropus', 3, 1, 0, 'jaune', 7, 19, 5, 15)\n",
            "(5, 'Amanite des Césars', 'Amanita caesarea', 4, 1, 1, 'orange', 8, 20, 8, 15)\n",
            "(6, 'Amanite tue-mouche', 'Amanita muscaria', 4, 0, 1, 'rouge', 5, 20, 1, 3)\n",
            "(7, 'Amanite phalloïdes', 'Amanita phalloides', 4, 0, 1, 'vert', 4, 15, 6, 13)\n",
            "(8, 'Chanterelle', 'Cantharellus cibarius', 5, 1, 1, 'jaune', 2, 12, 3, 7)\n",
            "(9, \"Clitocybe de l'olivier\", 'Clitocybe olearius', 1, 0, 1, 'jaune', 6, 14, 5.5, 15)\n",
            "(10, 'Ganoderme luisant', 'Ganoderma lucideum', 6, 0, 1, 'brun', 10, 30, 5, 25)\n",
            "(11, 'Cèpe de Bordeaux', 'Boletus edulis', 3, 1, 0, 'brun', 5, 30, 10, 25)\n",
            "(12, \"Cèpe d'été\", 'Boletus aestivalis', 3, 1, 0, 'fauve', 5, 20, 6, 15)\n",
            "(13, 'Cèpe des pins', 'Boletus pinicola', 3, 1, 0, 'brun', 5, 20, 5, 15)\n",
            "(14, 'Clavaire crépue', 'Sparassis crispa', 7, 1, 0, 'crème', 5, 40, 0, 0)\n",
            "(15, 'Clitocybe à toison', 'Lactarius torminosus', 1, 0, 1, 'crème', 6, 10, 4, 8)\n",
            "(16, 'Collybie à pied en fuseau', 'Collybia fusipes', 8, 1, 1, 'rouge', 4, 8, 6, 15)\n",
            "(17, 'Coprin micacé', 'Coprinus micaceus', 1, 1, 1, 'ocre', 3, 5, 5, 10)\n",
            "(18, \"Coprin noir d'encre\", 'Coprinus atramentarius', 1, 1, 1, 'gris', 4, 7, 5, 18)\n",
            "(19, 'Amanite âpre', 'Amanita aspera', 4, 1, 1, 'brun', 7, 12, 7, 12)\n",
            "(20, 'Amanite à verrues', 'Amanita echinocephala', 4, 0, 1, 'verdâtre', 6, 20, 8, 16)\n",
            "(21, 'Amanite citrine', 'Amanita citrina', 4, 1, 1, 'jaune', 5, 12, 6, 10)\n",
            "(22, 'Amanite épaisse', 'Amanita spissa', 4, 1, 1, 'gris', 7, 15, 8, 14)\n",
            "(23, 'Amanite fauve', 'Amanita fulva', 4, 1, 1, 'brun', 3, 10, 7, 15)\n",
            "(24, 'Amanite jonquille', 'Amanita gemmata', 4, 0, 1, 'blanc', 3, 10, 5, 10)\n",
            "(25, 'Amanite panthère', 'Amanita pantherina', 4, 0, 1, 'brun', 6, 10, 9, 13)\n",
            "(26, 'Amanite rougissante', 'Amanita rubescens', 4, 1, 1, 'beige', 6, 16, 6, 15)\n",
            "(27, 'Amanite safran\\tAmanita', 'crocea', 4, 1, 1, 'orange', 6, 12, 10, 20)\n",
            "(28, 'Amanite solitaire', 'Amanita solitaria', 4, 1, 1, 'blanc', 6, 20, 4, 10)\n",
            "(29, 'Armillaire couleur de miel', 'Armillaria mellea', 8, 1, 1, 'brun', 3, 15, 8, 10)\n",
            "(30, 'Lépiote élevée', 'Lepiota procera', 1, 1, 1, 'brun', 10, 15, 5, 35)\n",
            "(31, 'Morille blonde', 'Morchella rotunda', 9, 1, 0, 'rouge', 5, 15, 3, 12)\n",
            "(32, 'Morillon', 'Mitrophora semilibera', 9, 1, 0, 'ocre', 2, 5, 5, 10)\n",
            "(33, 'Pied bleu', 'Tricholoma nudum', 8, 1, 1, 'lila', 6, 12, 4, 9)\n",
            "(34, \"Pleurote en forme d'huître\", 'Pleurotus ostreatus', 1, 1, 1, 'beige', 5, 15, 0, 5)\n",
            "(35, 'Polypore géant\\tPolyporus', 'giganteus', 10, 0, 0, 'brun', 50, 80, 0, 0)\n",
            "(36, 'Russule charbonnière', 'Russula cyanoxantha', 11, 1, 1, 'gris', 5, 15, 5, 10)\n",
            "(37, 'Satyre puant', 'Phallus impudicus', 12, 0, 0, 'vert', 5, 10, 10, 20)\n",
            "(38, 'Strophaire vert-de-gris', 'Stropharia aeruginosa', 1, 1, 1, 'vert', 3, 8, 6, 10)\n",
            "(39, 'Tricholome à odeur de savon', 'Tricholoma saponaceum', 8, 1, 1, 'gris', 6, 13, 6, 10)\n",
            "(40, 'Vesse de loup perlée', 'Lycoperdon perlatum', 1, 1, 1, 'crème', 3, 5, 2, 5)\n",
            "\n",
            "Table Ingredient :\n",
            "(1, 1)\n",
            "(2, 8)\n",
            "(2, 11)\n",
            "(3, 2)\n",
            "(4, 3)\n",
            "(5, 1)\n",
            "(6, 2)\n",
            "\n",
            "Table Recette :\n",
            "(1, 'Mini tourtes aux champignons de Paris et feta', 130, '2 - facile', \"1) Coupez les champignons en petits morceaux. Chauffez l'huile d'olive et faites dorer les champignons. Laissez cuire jusqu'à l'évaporation totale de l'eau des champignons. Ajoutez les petits cubes de feta, la sauce soja, le persil et le basilic ciselé. Salez, poivrez. Laissez refroidir et ajoutez la crème. 2) Coupez des disques de pâte brisée et placez-les dans les empreintes mini-muffins. Remplissez-les de préparation et recouvrez d'un second disque plus petit. Pressez légèrement pour bien fermer et faites un petit trou au milieu à l'aide d'un couteau pointu. 3) Diluez le jaune d'oeuf avec un peu d'eau et badigeonnez les mini tourtes. Mettez-les au four 30 minutes à 180°C. Attendez 5 minutes à la sortie du four et démoulez.\")\n",
            "(2, 'Tarte feuilletée aux champignons', 80, '3 - moyenne', \"1) Beurrer grassement un plat à tarte, le chemiser de farine, ôter l'excédent, et le foncer avec la pâte feuilletée. Réserver au froid jusqu'à utilisation. 2) Eplucher et ciseler les échalotes, les faire très légèrement blondir dans la poêle avec un peu de beurre et d'huile. 3) Laver et couper les champignons. Les faire revenir à la poêle, avec beurre et huile. Compoter légèrement. En fin de cuisson, ajouter l'ail haché très finement, puis hors du feu, la ciboulette et le persil ciselés. 4) Battre 4 oeufs + 2 jaunes en omelette, ajouter la crème fraîche puis ajouter les champignons - rectifier l'assaisonnement. 5) Cuire la tarte 10 minutes à blanc (fond recouvert de pastilles aluminium sur du papier sulfurisé, à défaut de noyaux ou de fruits secs) à thermostat 7. Retirer du four, et passer le fond avec 1 jaune d'oeuf battu pour l'étanchéiser. Remettre au four 5 minutes pour cuire l'oeuf. Sortir du four à nouveau. 6) Verser la préparation dans la tarte et cuire environ 20 minutes.\")\n",
            "(3, 'Rouleaux de printemps', 48, '2 - facile', \"1) Epluchez les carottes et coupez-les en très fines lanières. Emincez la ciboule et la menthe. Réhydratez les champignons noirs dans un bol d'eau froide. Puis coupez les en fines lanières. 2) Faites chauffer de l'eau et réhydratez une feuille de riz. Déposez la sur un torchon humide. Placez une feuille de laitue, puis garnissez d'une crevette, carotte, soja, champignons noirs, de ciboule et de menthe. 3) Roulez la feuille de riz en prenant soins de rabattre les cotés pour enfermer la garniture. Entreposez au frais le temps de faire les autres rouleaux de printemps. 4) Préparez la sauce : Mélangez la sauce soja avec le jus de citron, la carotte coupée en fines lanières, l'ail haché, le sel et le poivre. 5) Servez les rouleaux de printemps accompagnés de la sauce et de feuilles de menthe.\")\n",
            "(4, 'Coprins chevelus en papillote', 45, '1 - très facile', \"1) Choisissez des coprins très jeunes, très blancs et bien fermes. Retirez les pieds. 2) Faites une petite farce avec le beurre, la mie de pain, l'ail et le persil haché. Malaxez bien. 3) Mettez un peu de cette farce à l'intérieur des chapeaux. 4) Roulez les coprins dans les tranches de pâte feuilletée, puis dans un carré de papier d'aluminium, afin de former des papillotes. 5) Disposez les papillotes dans un plat et faites cuire à four chaud (Th 5) pendant 1/2 heure.\")\n",
            "(5, 'Courgettes farcies', 45, '2 - facile', \"1) Mettre le four à préchauffer sur thermostat 6 (180°). Laver et couper les courgettes en deux dans la longueur. Les creuser avec une cuillères, garder la chair. Mettre le plat à gratin avec les courgettes vidés au four avec un demi-verre d'eau au fond. 2) Pendant ce temps-là, dans le bol d'un robot, mettre la chair des courgettes, l'oignon et les champignons de Paris coupés en gros morceaux. Hacher grossièrement, il ne faut pas que ce soit trop fin. 3) Faire revenir le hachis dans la cuillère d'huile d'olive une dizaine de minutes. 4) Battre l'oeuf avec une ou deux cuillères à soupe de lait et l'ajouter dans la poêle pour lier l'ensemble. Remuer rapidement puis arrêter la cuisson. 5) Sortir le plat du four et garnir les courgettes avec la farce. Saupoudrer de chapelure et enfourner pour une vingtaine de minutes.\")\n",
            "(6, 'Amuse-gueules fraîcheur', 30, '2 - facile', \"1) Couper le haut des tomates et les évider. Remplir de tzatziki. 2) Couper des tronçons de concombre (de 1,5 à 2 cm) et les éplucher en alternant une bande de peau, une bande pelée. Evider les tronçons avec une cuillère à café. Remplir avec le tzatziki et saupoudrer de paprika. 3) Oter le pied des champignons. Mélanger avec 4 cuillères de tzatziki et remplir les champignons noirs avec le mélange. Décorer avec des allumettes de concombre. 4) Découper de fines rondelles de radis noir et de radis roses. Empiler les rondelles en collant avec une couche de tarama ou de tzatziki. 5) Décorer les amuse-gueules avec un brin d'aneth ou de ciboulette. 6) Dans les légumes qui restent (concombres, courgettes et radis) découper des batonnets qui seront trempés par les invités dans les sauces restantes.\")\n",
            "\n",
            "Table Ordre_intitules :\n",
            "id\n",
            "nom\n",
            "\n",
            "Table Champignon_intitules :\n",
            "id\n",
            "nom\n",
            "nom_savant\n",
            "id_ordre\n",
            "comestible\n",
            "lamelles\n",
            "couleur\n",
            "taille_du_chapeau_min\n",
            "taille_du_chapeau_max\n",
            "longueur_du_pied_min\n",
            "longueur_du_pied_max\n",
            "\n",
            "Table Ingredient_intitules :\n",
            "id_recette\n",
            "id_champignon\n",
            "\n",
            "Table Recette_intitules :\n",
            "id\n",
            "nom\n",
            "duree\n",
            "difficulte\n",
            "description\n"
          ]
        }
      ],
      "source": [
        "print(\"Affichage des tables:\")\n",
        "for table, elements in tables.items():\n",
        "    print(f\"\\nTable {table.capitalize()} :\")\n",
        "    for element in elements:\n",
        "        print(element)"
      ]
    },
    {
      "cell_type": "markdown",
      "source": [
        "Schéma Entité/Association (via [Mermaid](https://mermaid.live/edit), d'après les tutoriels [Jupyter Integration with mermaid-js](https://mermaid.js.org/ecosystem/tutorials.html#jupyter-integration-with-mermaid-js) et [Entity Relationship Diagrams](https://mermaid.js.org/syntax/entityRelationshipDiagram.html))."
      ],
      "metadata": {
        "id": "WhgyDxEYqUHc"
      }
    },
    {
      "cell_type": "code",
      "source": [
        "import base64\n",
        "from IPython.display import Image, display\n",
        "import matplotlib.pyplot as plt\n",
        "\n",
        "def mm(graph):\n",
        "    graphbytes = graph.encode(\"utf8\")\n",
        "    base64_bytes = base64.b64encode(graphbytes)\n",
        "    base64_string = base64_bytes.decode(\"ascii\")\n",
        "    display(Image(url=\"https://mermaid.ink/img/\" + base64_string))\n",
        "\n",
        "mm(\"\"\"\n",
        "erDiagram\n",
        "    ORDRE {\n",
        "        int id_ordre\n",
        "        text nom\n",
        "    }\n",
        "    CHAMPIGNON {\n",
        "        int id_champignon\n",
        "        text nom\n",
        "        text nom_savant\n",
        "        int id_ordre\n",
        "        bool comestible\n",
        "        bool lamelles\n",
        "        text couleur\n",
        "        int taille_chapeau_min\n",
        "        int taille_chapeau_max\n",
        "        int longueur_pied_min\n",
        "        int longueur_pied_max\n",
        "    }\n",
        "    INGREDIENT {\n",
        "        int id_recette\n",
        "        int id_champignon\n",
        "    }\n",
        "    RECETTE {\n",
        "        int id_recette\n",
        "        text nom\n",
        "        int duree\n",
        "        text difficulte\n",
        "        text description\n",
        "    }\n",
        "\n",
        "    ORDRE ||--o{ CHAMPIGNON : Appartient_a\n",
        "    CHAMPIGNON ||--o{ INGREDIENT : Est_utilise_dans\n",
        "    RECETTE ||--o{ INGREDIENT : Comprend\n",
        "\"\"\")"
      ],
      "metadata": {
        "colab": {
          "base_uri": "https://localhost:8080/",
          "height": 663
        },
        "id": "3ZXJ8otQslkr",
        "outputId": "2f8589b7-5bf6-4aa9-bf71-b8f7ea8c1755"
      },
      "execution_count": null,
      "outputs": [
        {
          "output_type": "display_data",
          "data": {
            "text/html": [
              "<img src=\"https://mermaid.ink/img/CmVyRGlhZ3JhbQogICAgT1JEUkUgewogICAgICAgIGludCBpZF9vcmRyZQogICAgICAgIHRleHQgbm9tCiAgICB9CiAgICBDSEFNUElHTk9OIHsKICAgICAgICBpbnQgaWRfY2hhbXBpZ25vbgogICAgICAgIHRleHQgbm9tCiAgICAgICAgdGV4dCBub21fc2F2YW50CiAgICAgICAgaW50IGlkX29yZHJlCiAgICAgICAgYm9vbCBjb21lc3RpYmxlCiAgICAgICAgYm9vbCBsYW1lbGxlcwogICAgICAgIHRleHQgY291bGV1cgogICAgICAgIGludCB0YWlsbGVfY2hhcGVhdV9taW4KICAgICAgICBpbnQgdGFpbGxlX2NoYXBlYXVfbWF4CiAgICAgICAgaW50IGxvbmd1ZXVyX3BpZWRfbWluCiAgICAgICAgaW50IGxvbmd1ZXVyX3BpZWRfbWF4CiAgICB9CiAgICBJTkdSRURJRU5UIHsKICAgICAgICBpbnQgaWRfcmVjZXR0ZQogICAgICAgIGludCBpZF9jaGFtcGlnbm9uCiAgICB9CiAgICBSRUNFVFRFIHsKICAgICAgICBpbnQgaWRfcmVjZXR0ZQogICAgICAgIHRleHQgbm9tCiAgICAgICAgaW50IGR1cmVlCiAgICAgICAgdGV4dCBkaWZmaWN1bHRlCiAgICAgICAgdGV4dCBkZXNjcmlwdGlvbgogICAgfQoKICAgIE9SRFJFIHx8LS1veyBDSEFNUElHTk9OIDogQXBwYXJ0aWVudF9hCiAgICBDSEFNUElHTk9OIHx8LS1veyBJTkdSRURJRU5UIDogRXN0X3V0aWxpc2VfZGFucwogICAgUkVDRVRURSB8fC0tb3sgSU5HUkVESUVOVCA6IENvbXByZW5kCg==\"/>"
            ],
            "text/plain": [
              "<IPython.core.display.Image object>"
            ]
          },
          "metadata": {}
        }
      ]
    },
    {
      "cell_type": "markdown",
      "metadata": {
        "id": "-etfEKqfb6nJ"
      },
      "source": [
        "## 2.   Complétez ce programme pour qu’il crée une base de données relationnelle (vous utiliserez par exemple SQLite3 : import sqlite3) et qu’il peuple la base avec les données récupérées avec pickle."
      ]
    },
    {
      "cell_type": "code",
      "execution_count": null,
      "metadata": {
        "id": "fy3eazPm2rb5"
      },
      "outputs": [],
      "source": [
        "import os\n",
        "import sqlite3\n",
        "\n",
        "# SQL\n",
        "def connection_db(nom_db):\n",
        "    conn = sqlite3.connect(repertoire_db)\n",
        "    cursor = conn.cursor()\n",
        "    return conn, cursor\n",
        "\n",
        "conn, cursor = connection_db(nom_db)\n",
        "\n",
        "conn.commit()"
      ]
    },
    {
      "cell_type": "code",
      "execution_count": null,
      "metadata": {
        "id": "sFqEAt_LFUEc"
      },
      "outputs": [],
      "source": [
        "# Créer les tables\n",
        "## \"Ordre\"\n",
        "cursor.execute('''\n",
        "    CREATE TABLE Ordre (\n",
        "        id INTEGER PRIMARY KEY,\n",
        "        nom TEXT\n",
        "    )\n",
        "''')\n",
        "\n",
        "## \"OrdreIntitules\"\n",
        "cursor.execute('''\n",
        "    CREATE TABLE OrdreIntitules (\n",
        "        id INTEGER PRIMARY KEY,\n",
        "        nom TEXT\n",
        "    )\n",
        "''')\n",
        "\n",
        "## \"Champignon\"\n",
        "cursor.execute('''\n",
        "    CREATE TABLE Champignon (\n",
        "        id INTEGER PRIMARY KEY,\n",
        "        nom TEXT,\n",
        "        nom_savant TEXT,\n",
        "        id_ordre INTEGER,\n",
        "        comestible INTEGER,\n",
        "        lamelles INTEGER,\n",
        "        taille_du_chapeau_min INTEGER,\n",
        "        taille_du_chapeau_max INTEGER,\n",
        "        longueur_du_pied_min INTEGER,\n",
        "        longueur_du_pied_max INTEGER,\n",
        "        FOREIGN KEY (id_ordre) REFERENCES Ordre(id)\n",
        "    )\n",
        "''')\n",
        "\n",
        "## \"ChampignonIntitules\"\n",
        "cursor.execute('''\n",
        "    CREATE TABLE ChampignonIntitules (\n",
        "        id INTEGER PRIMARY KEY,\n",
        "        nom TEXT\n",
        "    )\n",
        "''')\n",
        "\n",
        "## \"Ingredient\"\n",
        "cursor.execute('''\n",
        "    CREATE TABLE Ingredient (\n",
        "        id INTEGER PRIMARY KEY,\n",
        "        id_recette INTEGER,\n",
        "        id_champignon INTEGER,\n",
        "        FOREIGN KEY (id_recette) REFERENCES Recette(id),\n",
        "        FOREIGN KEY (id_champignon) REFERENCES Champignon(id)\n",
        "    )\n",
        "''')\n",
        "\n",
        "## \"Recette\"\n",
        "cursor.execute('''\n",
        "    CREATE TABLE Recette (\n",
        "        id INTEGER PRIMARY KEY,\n",
        "        nom TEXT,\n",
        "        duree INTEGER,\n",
        "        description TEXT\n",
        "    )\n",
        "''')\n",
        "\n",
        "## \"IngredientIntitules\"\n",
        "cursor.execute('''\n",
        "    CREATE TABLE IngredientIntitules (\n",
        "        id INTEGER PRIMARY KEY,\n",
        "        nom TEXT\n",
        "    )\n",
        "''')\n",
        "\n",
        "## \"RecetteIntitules\"\n",
        "cursor.execute('''\n",
        "    CREATE TABLE RecetteIntitules (\n",
        "        id INTEGER PRIMARY KEY,\n",
        "        nom TEXT\n",
        "    )\n",
        "''')\n",
        "\n",
        "conn.commit()"
      ]
    },
    {
      "cell_type": "markdown",
      "source": [
        "Les couleurs des champignons seront insérées dans un second temps. Il faut donc les exclure de cette étape."
      ],
      "metadata": {
        "id": "TX2xwPKydh3g"
      }
    },
    {
      "cell_type": "code",
      "execution_count": null,
      "metadata": {
        "id": "pTzf9ke0KNv2"
      },
      "outputs": [],
      "source": [
        "# Insertion des données\n",
        "\n",
        "## \"IngredientIntitules\"\n",
        "for row in table_ingredient_intitules:\n",
        "    cursor.execute('''\n",
        "        INSERT INTO IngredientIntitules (nom)\n",
        "        VALUES (?)\n",
        "    ''', (row[0],))\n",
        "\n",
        "## \"RecetteIntitules\"\n",
        "for row in table_recette:\n",
        "    cursor.execute('''\n",
        "        INSERT INTO RecetteIntitules (nom)\n",
        "        VALUES (?)\n",
        "    ''', (row[1],))\n",
        "\n",
        "## \"ChampignonIntitules\"\n",
        "for row in table_champignon_intitules:\n",
        "    cursor.execute('''\n",
        "        INSERT INTO ChampignonIntitules (nom)\n",
        "        VALUES (?)\n",
        "    ''', (row[1],))\n",
        "\n",
        "## \"OrdreIntitules\"\n",
        "for row in table_ordre_intitules:\n",
        "    cursor.execute('''\n",
        "        INSERT INTO OrdreIntitules (nom)\n",
        "        VALUES (?)\n",
        "    ''', (row[1],))\n",
        "\n",
        "## \"Ordre\"\n",
        "for row in table_ordre:\n",
        "    cursor.execute('''\n",
        "        INSERT INTO Ordre (nom)\n",
        "        VALUES (?)\n",
        "    ''', (row[1],))\n",
        "\n",
        "## \"Champignon\"\n",
        "for row in table_champignon:\n",
        "    cursor.execute('''\n",
        "        INSERT INTO Champignon\n",
        "        (\n",
        "            nom, nom_savant, id_ordre, comestible, lamelles,\n",
        "            taille_du_chapeau_min, taille_du_chapeau_max,\n",
        "            longueur_du_pied_min, longueur_du_pied_max\n",
        "        )\n",
        "        VALUES (?, ?, ?, ?, ?, ?, ?, ?, ?)\n",
        "    ''', row[1:6] + row[7:]) # pour exclure les couleurs (pour le moment)\n",
        "\n",
        "## \"Recette\"\n",
        "for row in table_recette:\n",
        "    cursor.execute('''\n",
        "        INSERT INTO Recette (nom, duree, description)\n",
        "        VALUES (?, ?, ?)\n",
        "    ''', (row[1], row[2], row[4]))\n",
        "\n",
        "## \"Ingredient\"\n",
        "for row in table_ingredient:\n",
        "    cursor.execute('''\n",
        "        INSERT INTO Ingredient (id_recette, id_champignon)\n",
        "        VALUES (?, ?)\n",
        "    ''', (row[0], row[1]))\n",
        "\n",
        "##\n",
        "conn.commit()"
      ]
    },
    {
      "cell_type": "markdown",
      "metadata": {
        "id": "f2oyVd7OcR_Q"
      },
      "source": [
        "## 3.   Procédez à des améliorations du schéma de la base (par exemple sur les couleurs ou la difficulté des recettes)."
      ]
    },
    {
      "cell_type": "markdown",
      "source": [
        "Nous ajoutons les couleurs des Champignons et la difficulté des Recettes."
      ],
      "metadata": {
        "id": "uuyQ0jS63wTZ"
      }
    },
    {
      "cell_type": "code",
      "execution_count": null,
      "metadata": {
        "id": "JIl4aELbaW0x"
      },
      "outputs": [],
      "source": [
        "# Ajout des couleurs\n",
        "\n",
        "cursor.execute('''\n",
        "    ALTER TABLE Champignon\n",
        "    ADD COLUMN couleur TEXT''')\n",
        "\n",
        "for i, row in enumerate(table_champignon):\n",
        "    cursor.execute('''\n",
        "        UPDATE Champignon\n",
        "        SET couleur = ?\n",
        "        WHERE id = ?\n",
        "    ''', (row[6], i+1))\n",
        "\n",
        "# Ajout des difficultés des Recettes\n",
        "\n",
        "cursor.execute('''\n",
        "    ALTER TABLE Recette\n",
        "    ADD COLUMN difficulte TEXT ''')\n",
        "\n",
        "for i, row in enumerate(table_recette):\n",
        "    cursor.execute('''\n",
        "        UPDATE Recette\n",
        "        SET difficulte = ?\n",
        "        WHERE id = ?\n",
        "    ''', (row[3], i+1))\n",
        "\n",
        "# Quitter définitivement\n",
        "conn.commit()\n",
        "conn.close()"
      ]
    },
    {
      "cell_type": "markdown",
      "metadata": {
        "id": "VpsIDcs-K8Ms"
      },
      "source": [
        "# Partie II – Consultation d’une base de données relationnelle\n",
        "\n"
      ]
    },
    {
      "cell_type": "markdown",
      "source": [
        "## 4.   En utilisant des requêtes SQL dans un programme python, répondez aux questions suivantes (créez une fonction pour répondre à chaque question) :\n"
      ],
      "metadata": {
        "id": "35jKzIYi5g5J"
      }
    },
    {
      "cell_type": "markdown",
      "metadata": {
        "id": "CR5hxAvycgfZ"
      },
      "source": [
        "### a. Combien y-a-t’il de champignons ?"
      ]
    },
    {
      "cell_type": "code",
      "execution_count": null,
      "metadata": {
        "id": "fXXyDgIEcf4C",
        "colab": {
          "base_uri": "https://localhost:8080/"
        },
        "outputId": "055e4aa0-5ee9-429b-c53b-5548210a40f6"
      },
      "outputs": [
        {
          "output_type": "stream",
          "name": "stdout",
          "text": [
            "Présence de 40 champignons.\n"
          ]
        }
      ],
      "source": [
        "def comptage_champi():\n",
        "    conn, cursor = connection_db()\n",
        "    cursor.execute('''\n",
        "        SELECT COUNT(*)\n",
        "        FROM Champignon\n",
        "        ''')\n",
        "    count = cursor.fetchone()[0]\n",
        "    conn.close()\n",
        "    return count\n",
        "\n",
        "total = comptage_champi()\n",
        "print(f\"Présence de {total} champignons.\")\n"
      ]
    },
    {
      "cell_type": "markdown",
      "metadata": {
        "id": "R5lp0xcLcg8z"
      },
      "source": [
        "### b. Demandez à l’utilisateur de saisir un nom de champignon, et indiquez-lui s’il existe une recette utilisant ce champignon."
      ]
    },
    {
      "cell_type": "code",
      "execution_count": null,
      "metadata": {
        "id": "acfdqB5VchQ2",
        "colab": {
          "base_uri": "https://localhost:8080/"
        },
        "outputId": "3a9ba25c-3264-4f22-c6ec-e41daea5e562"
      },
      "outputs": [
        {
          "output_type": "stream",
          "name": "stdout",
          "text": [
            "Recherche d'un champignon, entrez son nom : Champignon de paris\n",
            "Une recette au moins existe pour le 'Champignon de Paris'.\n"
          ]
        }
      ],
      "source": [
        "def existence_champi(mushroom_name):\n",
        "    conn, cursor = connection_db()\n",
        "\n",
        "    cursor.execute('''\n",
        "        SELECT nom\n",
        "        FROM Champignon\n",
        "        WHERE LOWER(nom) = LOWER(?)'''\n",
        "        , (mushroom_name,))\n",
        "    result = cursor.fetchone()\n",
        "    conn.close()\n",
        "\n",
        "    return True if result\n",
        "\n",
        "\n",
        "entree_recherche_champi = input(\"Recherche d'un champignon, entrez son nom : \")\n",
        "nom_reel_champi = existence_champi(entree_recherche_champi.lower())\n",
        "\n",
        "\n",
        "if nom_reel_champi is not None :\n",
        "    print(f\"Une recette au moins existe pour le '{nom_reel_champi}'.\")\n",
        "else:\n",
        "    print(f\"Aucune recette n'existe pour le champignon '{entree_recherche_champi}'.\")\n"
      ]
    },
    {
      "cell_type": "markdown",
      "metadata": {
        "id": "A4o0EsoMcn0-"
      },
      "source": [
        "### c. À quel ordre appartient le Cèpe de Bordeaux ? \\\\"
      ]
    },
    {
      "cell_type": "code",
      "execution_count": null,
      "metadata": {
        "id": "wtrOkesachwF",
        "colab": {
          "base_uri": "https://localhost:8080/"
        },
        "outputId": "1340184e-e6c2-4047-f962-c746667e094d"
      },
      "outputs": [
        {
          "output_type": "stream",
          "name": "stdout",
          "text": [
            "Le Cèpe de Bordeaux appartient à l'Ordre des Bolétales.\n"
          ]
        }
      ],
      "source": [
        "def bdx_champi():\n",
        "\n",
        "    conn, cursor = connection_db()\n",
        "\n",
        "    cursor.execute('''\n",
        "        SELECT Ordre.nom\n",
        "        FROM Champignon\n",
        "        JOIN Ordre ON Champignon.id_ordre = Ordre.id\n",
        "        WHERE Champignon.nom = 'Cèpe de Bordeaux'\n",
        "    ''')\n",
        "    bdx_ordre = cursor.fetchone()[0]\n",
        "\n",
        "    conn.close()\n",
        "\n",
        "    return bdx_ordre\n",
        "\n",
        "bdx_ordre = bdx_champi()\n",
        "print(f\"Le Cèpe de Bordeaux appartient à l'Ordre des {bdx_ordre}.\")"
      ]
    },
    {
      "cell_type": "markdown",
      "metadata": {
        "id": "HoTcDKJccptd"
      },
      "source": [
        "### d. Interrogez la base de données pour vérifier qu’il n’y ait pas de recette avec les champignons non comestibles."
      ]
    },
    {
      "cell_type": "code",
      "execution_count": null,
      "metadata": {
        "id": "VKbui5Z_cqia",
        "colab": {
          "base_uri": "https://localhost:8080/"
        },
        "outputId": "05e4f060-136f-414e-b78b-82cd7301bfb8"
      },
      "outputs": [
        {
          "output_type": "stream",
          "name": "stdout",
          "text": [
            "Attention, des recettes utilisent des champignons non-comestibles.\n"
          ]
        }
      ],
      "source": [
        "# Dans la Table Champignon, un champignon toxique a un '0' dans la colonne 'comestible'.\n",
        "def non_comestible_champi():\n",
        "\n",
        "    conn, cursor = connection_db()\n",
        "\n",
        "    cursor.execute('''\n",
        "        SELECT COUNT(*)\n",
        "        FROM Ingredient\n",
        "        JOIN Champignon ON Ingredient.id_champignon = Champignon.id\n",
        "        JOIN Recette ON Ingredient.id_recette = Recette.id\n",
        "        WHERE Champignon.comestible = 0\n",
        "    ''')\n",
        "    non_comestible = cursor.fetchone()[0]\n",
        "\n",
        "    conn.close()\n",
        "\n",
        "    return non_comestible\n",
        "\n",
        "\n",
        "if non_comestible_champi():\n",
        "    print(f\"Toutes les recettes utilisent des champignons comestibles.\")\n",
        "else:\n",
        "    print(f\"Attention, des recettes utilisent des champignons non-comestibles.\")"
      ]
    },
    {
      "cell_type": "markdown",
      "metadata": {
        "id": "Knl7V--zcXSU"
      },
      "source": [
        "## 5.   Permettez à l’utilisateur de rajouter une recette à la base de données : créez des fonctions interface pour que cela soit possible : ces fonctions doivent poser des questions et utiliser les réponses pour augmenter la base."
      ]
    },
    {
      "cell_type": "code",
      "execution_count": null,
      "metadata": {
        "id": "kFv5FJRUvwDR",
        "colab": {
          "base_uri": "https://localhost:8080/"
        },
        "outputId": "8642c282-f89d-4ab1-fabf-d7e685f7cf4d"
      },
      "outputs": [
        {
          "output_type": "stream",
          "name": "stdout",
          "text": [
            "***********************\n",
            "* Ajout d'une recette *\n",
            "***********************\n",
            "Entrez le nom de la recette : clafoutis\n",
            "Entrez la durée de la recette en minutes : 24\n",
            "1 - très facile\n",
            "2 - facile\n",
            "3 - moyen\n",
            "4 - difficile\n",
            "5 - très difficile\n",
            "Choisissez un chiffre entre 1 et 5 pour la difficulté : 3\n",
            "Vous avez choisi la difficulté : 3 - moyen\n",
            "Etapes de la recette ? (taper 'stop' pour quitter)\n",
            "1. mélanger\n",
            "2. mélanger encore\n",
            "3. stop\n",
            "***********************\n",
            "* Recette enregistrée *\n",
            "***********************\n"
          ]
        }
      ],
      "source": [
        "# Fonction\n",
        "def recette_ajout():\n",
        "    conn, cursor = connection_db()\n",
        "\n",
        "    haut_page = \"Ajout d'une recette\"\n",
        "    bas_page = \"Recette enregistrée\"\n",
        "    marge_page = max(len(haut_page), len(bas_page)) + 4\n",
        "\n",
        "    print(\"*\" * marge_page)\n",
        "    print(f\"* {haut_page} *\")\n",
        "    print(\"*\" * marge_page)\n",
        "\n",
        "    ## Duree\n",
        "    recette_nom = input(\"Entrez le nom de la recette : \")\n",
        "    while True:\n",
        "        recette_duree = input(\"Entrez la durée de la recette en minutes : \")\n",
        "        if recette_duree.isdigit():\n",
        "            break\n",
        "        else:\n",
        "            print(\"!Entrez un nombre entier pour la durée!\")\n",
        "\n",
        "    ## Difficulte\n",
        "    niveaux_difficulte = {\n",
        "        1: \"1 - très facile\",\n",
        "        2: \"2 - facile\",\n",
        "        3: \"3 - moyen\",\n",
        "        4: \"4 - difficile\",\n",
        "        5: \"5 - très difficile\"\n",
        "    }\n",
        "\n",
        "    for key, value in niveaux_difficulte.items():\n",
        "        print(value)\n",
        "\n",
        "\n",
        "    while True:\n",
        "        try:\n",
        "            recette_difficulte = int(input(\"Choisissez un chiffre entre 1 et 5 pour la difficulté : \"))\n",
        "            if 1 <= recette_difficulte <= 5:\n",
        "                difficulty_recette = niveaux_difficulte[recette_difficulte]\n",
        "                print(f\"Vous avez choisi la difficulté : {niveaux_difficulte[recette_difficulte]}\")\n",
        "                break\n",
        "            else:\n",
        "                print(\"Veuillez choisir un chiffre entre 1 et 5.\")\n",
        "        except ValueError:\n",
        "            print(\"Veuillez entrer un chiffre valide.\")\n",
        "\n",
        "    ## Etapes\n",
        "    print(\"Etapes de la recette ? (taper 'stop' pour quitter)\")\n",
        "\n",
        "    etapes = []\n",
        "    etape_prefixe = 1\n",
        "    while True:\n",
        "        etape = input(f\"{etape_prefixe}. \")\n",
        "        if etape.lower() == 'stop':\n",
        "            break\n",
        "        etapes.append(etape)\n",
        "        etape_prefixe += 1\n",
        "\n",
        "    recette_description = '\\n'.join(etapes)\n",
        "\n",
        "    ## DB\n",
        "    cursor.execute('''\n",
        "        INSERT INTO Recette (nom, duree, difficulte, description)\n",
        "        VALUES (?, ?, ?, ?)\n",
        "    ''', (recette_nom, recette_duree, recette_difficulte, recette_description))\n",
        "\n",
        "    conn.commit()\n",
        "\n",
        "    print(\"*\" * marge_page)\n",
        "    print(f\"* {bas_page} *\")\n",
        "    print(\"*\" * marge_page)\n",
        "\n",
        "    conn.close()\n",
        "\n",
        "# Fin Fonction\n",
        "\n",
        "recette_ajout()"
      ]
    }
  ],
  "metadata": {
    "colab": {
      "provenance": [],
      "include_colab_link": true
    },
    "kernelspec": {
      "display_name": "Python 3",
      "name": "python3"
    },
    "language_info": {
      "name": "python"
    }
  },
  "nbformat": 4,
  "nbformat_minor": 0
}